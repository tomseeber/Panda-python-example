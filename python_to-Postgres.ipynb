{
 "cells": [
  {
   "cell_type": "code",
   "execution_count": 49,
   "metadata": {},
   "outputs": [],
   "source": [
    "import pandas as pd\n",
    "from sqlalchemy import create_engine\n",
    "from sqlalchemy import Table, Column, String, MetaData\n",
    "from sqlalchemy.ext.declarative import declarative_base  \n",
    "from sqlalchemy.orm import sessionmaker\n",
    "import config\n"
   ]
  },
  {
   "cell_type": "code",
   "execution_count": 50,
   "metadata": {},
   "outputs": [],
   "source": [
    "fullconstring = f'postgresql://{config.dbuser}:{config.dbpass}@{config.server}/{config.db}'\n",
    "#its got to be postgresql not postgres , tutorials are wrong. \n",
    "\n",
    "engine = create_engine(fullconstring)\n",
    "conn = engine.connect()"
   ]
  },
  {
   "cell_type": "code",
   "execution_count": 51,
   "metadata": {},
   "outputs": [
    {
     "name": "stdout",
     "output_type": "stream",
     "text": [
      "(1, 'Skywalker', 'Luke', 12101, 'Force utilization', 'Spring')\n",
      "(1, 'Skywalker', 'Luke', 3201, 'Data modeling', 'Fall')\n",
      "(1, 'Skywalker', 'Luke', 3202, 'Data visualization', 'Fall')\n",
      "(2, 'Skywalker', 'Leia', 12101, 'Force utilization', 'Fall')\n",
      "(2, 'Skywalker', 'Leia', 3202, 'Data visualization', 'Spring')\n",
      "(3, 'Solo', 'Han', 3201, 'Data modeling', 'Spring')\n",
      "(3, 'Solo', 'Han', 3202, 'Data visualization', 'Fall')\n"
     ]
    }
   ],
   "source": [
    "\n",
    "query = '''SELECT s.id, s.last_name, s.first_name, c.id, c.course_name, j.course_term\n",
    "FROM students s\n",
    "LEFT JOIN student_courses_junction j\n",
    "ON s.id = j.student_id\n",
    "LEFT JOIN courses c\n",
    "ON c.id = j.course_id;'''\n",
    "\n",
    "\n",
    "result_set = conn.execute(query)\n",
    "\n",
    "for r in result_set:  \n",
    "    print(r)\n"
   ]
  },
  {
   "cell_type": "code",
   "execution_count": 52,
   "metadata": {},
   "outputs": [
    {
     "data": {
      "text/html": [
       "<div>\n",
       "<style scoped>\n",
       "    .dataframe tbody tr th:only-of-type {\n",
       "        vertical-align: middle;\n",
       "    }\n",
       "\n",
       "    .dataframe tbody tr th {\n",
       "        vertical-align: top;\n",
       "    }\n",
       "\n",
       "    .dataframe thead th {\n",
       "        text-align: right;\n",
       "    }\n",
       "</style>\n",
       "<table border=\"1\" class=\"dataframe\">\n",
       "  <thead>\n",
       "    <tr style=\"text-align: right;\">\n",
       "      <th></th>\n",
       "      <th>id</th>\n",
       "      <th>last_name</th>\n",
       "      <th>first_name</th>\n",
       "      <th>id</th>\n",
       "      <th>course_name</th>\n",
       "      <th>course_term</th>\n",
       "    </tr>\n",
       "  </thead>\n",
       "  <tbody>\n",
       "    <tr>\n",
       "      <th>0</th>\n",
       "      <td>1</td>\n",
       "      <td>Skywalker</td>\n",
       "      <td>Luke</td>\n",
       "      <td>12101</td>\n",
       "      <td>Force utilization</td>\n",
       "      <td>Spring</td>\n",
       "    </tr>\n",
       "    <tr>\n",
       "      <th>1</th>\n",
       "      <td>1</td>\n",
       "      <td>Skywalker</td>\n",
       "      <td>Luke</td>\n",
       "      <td>3201</td>\n",
       "      <td>Data modeling</td>\n",
       "      <td>Fall</td>\n",
       "    </tr>\n",
       "    <tr>\n",
       "      <th>2</th>\n",
       "      <td>1</td>\n",
       "      <td>Skywalker</td>\n",
       "      <td>Luke</td>\n",
       "      <td>3202</td>\n",
       "      <td>Data visualization</td>\n",
       "      <td>Fall</td>\n",
       "    </tr>\n",
       "    <tr>\n",
       "      <th>3</th>\n",
       "      <td>2</td>\n",
       "      <td>Skywalker</td>\n",
       "      <td>Leia</td>\n",
       "      <td>12101</td>\n",
       "      <td>Force utilization</td>\n",
       "      <td>Fall</td>\n",
       "    </tr>\n",
       "    <tr>\n",
       "      <th>4</th>\n",
       "      <td>2</td>\n",
       "      <td>Skywalker</td>\n",
       "      <td>Leia</td>\n",
       "      <td>3202</td>\n",
       "      <td>Data visualization</td>\n",
       "      <td>Spring</td>\n",
       "    </tr>\n",
       "    <tr>\n",
       "      <th>5</th>\n",
       "      <td>3</td>\n",
       "      <td>Solo</td>\n",
       "      <td>Han</td>\n",
       "      <td>3201</td>\n",
       "      <td>Data modeling</td>\n",
       "      <td>Spring</td>\n",
       "    </tr>\n",
       "    <tr>\n",
       "      <th>6</th>\n",
       "      <td>3</td>\n",
       "      <td>Solo</td>\n",
       "      <td>Han</td>\n",
       "      <td>3202</td>\n",
       "      <td>Data visualization</td>\n",
       "      <td>Fall</td>\n",
       "    </tr>\n",
       "  </tbody>\n",
       "</table>\n",
       "</div>"
      ],
      "text/plain": [
       "   id  last_name first_name     id         course_name course_term\n",
       "0   1  Skywalker       Luke  12101   Force utilization      Spring\n",
       "1   1  Skywalker       Luke   3201       Data modeling        Fall\n",
       "2   1  Skywalker       Luke   3202  Data visualization        Fall\n",
       "3   2  Skywalker       Leia  12101   Force utilization        Fall\n",
       "4   2  Skywalker       Leia   3202  Data visualization      Spring\n",
       "5   3       Solo        Han   3201       Data modeling      Spring\n",
       "6   3       Solo        Han   3202  Data visualization        Fall"
      ]
     },
     "execution_count": 52,
     "metadata": {},
     "output_type": "execute_result"
    }
   ],
   "source": [
    "df = pd.read_sql(query, conn)\n",
    "df"
   ]
  },
  {
   "cell_type": "code",
   "execution_count": 53,
   "metadata": {},
   "outputs": [
    {
     "data": {
      "text/html": [
       "<div>\n",
       "<style scoped>\n",
       "    .dataframe tbody tr th:only-of-type {\n",
       "        vertical-align: middle;\n",
       "    }\n",
       "\n",
       "    .dataframe tbody tr th {\n",
       "        vertical-align: top;\n",
       "    }\n",
       "\n",
       "    .dataframe thead th {\n",
       "        text-align: right;\n",
       "    }\n",
       "</style>\n",
       "<table border=\"1\" class=\"dataframe\">\n",
       "  <thead>\n",
       "    <tr style=\"text-align: right;\">\n",
       "      <th></th>\n",
       "      <th>id</th>\n",
       "      <th>last_name</th>\n",
       "      <th>first_name</th>\n",
       "      <th>id</th>\n",
       "      <th>course_name</th>\n",
       "      <th>course_term</th>\n",
       "    </tr>\n",
       "  </thead>\n",
       "  <tbody>\n",
       "    <tr>\n",
       "      <th>0</th>\n",
       "      <td>1</td>\n",
       "      <td>Skywalker</td>\n",
       "      <td>Luke</td>\n",
       "      <td>12101</td>\n",
       "      <td>Force utilization</td>\n",
       "      <td>Spring</td>\n",
       "    </tr>\n",
       "    <tr>\n",
       "      <th>1</th>\n",
       "      <td>1</td>\n",
       "      <td>Skywalker</td>\n",
       "      <td>Luke</td>\n",
       "      <td>3201</td>\n",
       "      <td>Data modeling</td>\n",
       "      <td>Fall</td>\n",
       "    </tr>\n",
       "    <tr>\n",
       "      <th>2</th>\n",
       "      <td>1</td>\n",
       "      <td>Skywalker</td>\n",
       "      <td>Luke</td>\n",
       "      <td>3202</td>\n",
       "      <td>Data visualization</td>\n",
       "      <td>Fall</td>\n",
       "    </tr>\n",
       "    <tr>\n",
       "      <th>3</th>\n",
       "      <td>2</td>\n",
       "      <td>Skywalker</td>\n",
       "      <td>Leia</td>\n",
       "      <td>12101</td>\n",
       "      <td>Force utilization</td>\n",
       "      <td>Fall</td>\n",
       "    </tr>\n",
       "    <tr>\n",
       "      <th>4</th>\n",
       "      <td>2</td>\n",
       "      <td>Skywalker</td>\n",
       "      <td>Leia</td>\n",
       "      <td>3202</td>\n",
       "      <td>Data visualization</td>\n",
       "      <td>Spring</td>\n",
       "    </tr>\n",
       "  </tbody>\n",
       "</table>\n",
       "</div>"
      ],
      "text/plain": [
       "   id  last_name first_name     id         course_name course_term\n",
       "0   1  Skywalker       Luke  12101   Force utilization      Spring\n",
       "1   1  Skywalker       Luke   3201       Data modeling        Fall\n",
       "2   1  Skywalker       Luke   3202  Data visualization        Fall\n",
       "3   2  Skywalker       Leia  12101   Force utilization        Fall\n",
       "4   2  Skywalker       Leia   3202  Data visualization      Spring"
      ]
     },
     "execution_count": 53,
     "metadata": {},
     "output_type": "execute_result"
    }
   ],
   "source": [
    "df2 = df[df[\"last_name\"] != \"Solo\"]\n",
    "df2"
   ]
  },
  {
   "cell_type": "code",
   "execution_count": 54,
   "metadata": {},
   "outputs": [
    {
     "data": {
      "text/html": [
       "<div>\n",
       "<style scoped>\n",
       "    .dataframe tbody tr th:only-of-type {\n",
       "        vertical-align: middle;\n",
       "    }\n",
       "\n",
       "    .dataframe tbody tr th {\n",
       "        vertical-align: top;\n",
       "    }\n",
       "\n",
       "    .dataframe thead th {\n",
       "        text-align: right;\n",
       "    }\n",
       "</style>\n",
       "<table border=\"1\" class=\"dataframe\">\n",
       "  <thead>\n",
       "    <tr style=\"text-align: right;\">\n",
       "      <th></th>\n",
       "      <th>id</th>\n",
       "      <th>last_name</th>\n",
       "      <th>first_name</th>\n",
       "    </tr>\n",
       "  </thead>\n",
       "  <tbody>\n",
       "    <tr>\n",
       "      <th>0</th>\n",
       "      <td>1</td>\n",
       "      <td>Skywalker</td>\n",
       "      <td>Luke</td>\n",
       "    </tr>\n",
       "    <tr>\n",
       "      <th>1</th>\n",
       "      <td>2</td>\n",
       "      <td>Skywalker</td>\n",
       "      <td>Leia</td>\n",
       "    </tr>\n",
       "    <tr>\n",
       "      <th>2</th>\n",
       "      <td>3</td>\n",
       "      <td>Solo</td>\n",
       "      <td>Han</td>\n",
       "    </tr>\n",
       "  </tbody>\n",
       "</table>\n",
       "</div>"
      ],
      "text/plain": [
       "   id  last_name first_name\n",
       "0   1  Skywalker       Luke\n",
       "1   2  Skywalker       Leia\n",
       "2   3       Solo        Han"
      ]
     },
     "execution_count": 54,
     "metadata": {},
     "output_type": "execute_result"
    }
   ],
   "source": [
    "df3 = pd.read_sql(\"Select * from students\", conn)\n",
    "df3"
   ]
  },
  {
   "cell_type": "code",
   "execution_count": 55,
   "metadata": {},
   "outputs": [
    {
     "data": {
      "text/html": [
       "<div>\n",
       "<style scoped>\n",
       "    .dataframe tbody tr th:only-of-type {\n",
       "        vertical-align: middle;\n",
       "    }\n",
       "\n",
       "    .dataframe tbody tr th {\n",
       "        vertical-align: top;\n",
       "    }\n",
       "\n",
       "    .dataframe thead th {\n",
       "        text-align: right;\n",
       "    }\n",
       "</style>\n",
       "<table border=\"1\" class=\"dataframe\">\n",
       "  <thead>\n",
       "    <tr style=\"text-align: right;\">\n",
       "      <th></th>\n",
       "      <th>id</th>\n",
       "      <th>last_name</th>\n",
       "      <th>first_name</th>\n",
       "    </tr>\n",
       "  </thead>\n",
       "  <tbody>\n",
       "    <tr>\n",
       "      <th>0</th>\n",
       "      <td>1</td>\n",
       "      <td>Skywalker</td>\n",
       "      <td>Luke</td>\n",
       "    </tr>\n",
       "    <tr>\n",
       "      <th>1</th>\n",
       "      <td>2</td>\n",
       "      <td>Skywalker</td>\n",
       "      <td>Leia</td>\n",
       "    </tr>\n",
       "  </tbody>\n",
       "</table>\n",
       "</div>"
      ],
      "text/plain": [
       "   id  last_name first_name\n",
       "0   1  Skywalker       Luke\n",
       "1   2  Skywalker       Leia"
      ]
     },
     "execution_count": 55,
     "metadata": {},
     "output_type": "execute_result"
    }
   ],
   "source": [
    "df3_nosolo = df3[df3[\"last_name\"] != \"Solo\"]\n",
    "df3_nosolo \n"
   ]
  },
  {
   "cell_type": "code",
   "execution_count": 56,
   "metadata": {},
   "outputs": [
    {
     "data": {
      "text/plain": [
       "2"
      ]
     },
     "execution_count": 56,
     "metadata": {},
     "output_type": "execute_result"
    }
   ],
   "source": [
    "df3_nosolo.to_sql('students2', conn, if_exists='replace', index=False)\n",
    "# Youll have to drop foreign key constraints first, then re-add them"
   ]
  },
  {
   "cell_type": "code",
   "execution_count": 57,
   "metadata": {},
   "outputs": [
    {
     "data": {
      "text/html": [
       "<div>\n",
       "<style scoped>\n",
       "    .dataframe tbody tr th:only-of-type {\n",
       "        vertical-align: middle;\n",
       "    }\n",
       "\n",
       "    .dataframe tbody tr th {\n",
       "        vertical-align: top;\n",
       "    }\n",
       "\n",
       "    .dataframe thead th {\n",
       "        text-align: right;\n",
       "    }\n",
       "</style>\n",
       "<table border=\"1\" class=\"dataframe\">\n",
       "  <thead>\n",
       "    <tr style=\"text-align: right;\">\n",
       "      <th></th>\n",
       "      <th>id</th>\n",
       "      <th>last_name</th>\n",
       "      <th>first_name</th>\n",
       "    </tr>\n",
       "  </thead>\n",
       "  <tbody>\n",
       "    <tr>\n",
       "      <th>0</th>\n",
       "      <td>1</td>\n",
       "      <td>Skywalker</td>\n",
       "      <td>Luke</td>\n",
       "    </tr>\n",
       "    <tr>\n",
       "      <th>1</th>\n",
       "      <td>2</td>\n",
       "      <td>Skywalker</td>\n",
       "      <td>Leia</td>\n",
       "    </tr>\n",
       "  </tbody>\n",
       "</table>\n",
       "</div>"
      ],
      "text/plain": [
       "   id  last_name first_name\n",
       "0   1  Skywalker       Luke\n",
       "1   2  Skywalker       Leia"
      ]
     },
     "execution_count": 57,
     "metadata": {},
     "output_type": "execute_result"
    }
   ],
   "source": [
    "test_solo  = df3 = pd.read_sql(\"Select * from students2\", conn)\n",
    "test_solo"
   ]
  }
 ],
 "metadata": {
  "kernelspec": {
   "display_name": "PythonData",
   "language": "python",
   "name": "python3"
  },
  "language_info": {
   "codemirror_mode": {
    "name": "ipython",
    "version": 3
   },
   "file_extension": ".py",
   "mimetype": "text/x-python",
   "name": "python",
   "nbconvert_exporter": "python",
   "pygments_lexer": "ipython3",
   "version": "3.8.12"
  },
  "orig_nbformat": 4
 },
 "nbformat": 4,
 "nbformat_minor": 2
}
